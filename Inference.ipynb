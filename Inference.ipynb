{
 "cells": [
  {
   "cell_type": "code",
   "execution_count": 1019,
   "id": "53a7821a",
   "metadata": {
    "cellId": "edmgl4uh787urzuv4x7ix"
   },
   "outputs": [],
   "source": [
    "#!g1.1\n",
    "import warnings\n",
    "warnings.filterwarnings(\"ignore\", category=FutureWarning)\n",
    "warnings.simplefilter(\"ignore\", UserWarning)\n",
    "import torch\n",
    "import numpy as np\n",
    "import matplotlib.pyplot as plt\n",
    "from utils import Config\n",
    "import os"
   ]
  },
  {
   "cell_type": "code",
   "execution_count": 1020,
   "id": "2674aae5",
   "metadata": {
    "cellId": "9wkakgmj0cczir7xu5w4dc"
   },
   "outputs": [],
   "source": [
    "#!g1.1\n",
    "def show_images(pred, mask):\n",
    "    if np.max(pred) <= 1:\n",
    "        pred = pred * 255\n",
    "    if np.max(mask) <= 1:\n",
    "        mask = mask * 255\n",
    "    fig, (ax1, ax2) = plt.subplots(1, 2, figsize=(12, 4))\n",
    "    ax1.axis('off')\n",
    "    ax1.imshow(pred, cmap='gray')\n",
    "    ax2.axis('off')\n",
    "    ax2.imshow(mask, cmap='gray')\n",
    "    plt.show()"
   ]
  },
  {
   "cell_type": "code",
   "execution_count": 1021,
   "id": "bb1bd111",
   "metadata": {
    "cellId": "8q7xdb2apgag2ayolxp5nt"
   },
   "outputs": [
    {
     "name": "stdout",
     "output_type": "stream",
     "text": [
      "UnetPP-efnb7-1024-v2.cfg  UnetPP-efnb7-2048.cfg\n"
     ]
    }
   ],
   "source": [
    "#!g1.1\n",
    "!ls configs"
   ]
  },
  {
   "cell_type": "code",
   "execution_count": 1022,
   "id": "c5b51d9d",
   "metadata": {
    "cellId": "gasn04dk4klud3n608j5ch"
   },
   "outputs": [
    {
     "name": "stdout",
     "output_type": "stream",
     "text": [
      "['/home/jupyter/mnt/datasets/tissue/data/test/18-02791B_2019-05-07 22_25_06-lv1-14165-17366-6446-4855.jpg', '/home/jupyter/mnt/datasets/tissue/data/test/18-01592A_2019-05-07 21_59_18-lv1-18492-12001-4720-3984.jpg']\n"
     ]
    }
   ],
   "source": [
    "#!g1.1\n",
    "val_folder = '/home/jupyter/mnt/datasets/tissue/data/test'\n",
    "val_names = [x.split('.')[0] for x in os.listdir(val_folder) if 'mask' not in x]\n",
    "val_paths = []\n",
    "for name in val_names:\n",
    "    image_path = os.path.join(val_folder, name + '.jpg')\n",
    "    mask_path = os.path.join(val_folder, name + '_mask.jpg')\n",
    "    if not os.path.exists(image_path):\n",
    "        print(f'{image_path} does not exist')\n",
    "        continue\n",
    "    if not os.path.exists(mask_path):\n",
    "        print(f'{mask_path} does not exist')\n",
    "        continue\n",
    "    val_paths.append([os.path.join(val_folder, name + '.jpg'), os.path.join(val_folder, name + '_mask.jpg')])\n",
    "val_paths = np.asarray(test_paths)\n",
    "print(test_paths[:2])"
   ]
  },
  {
   "cell_type": "code",
   "execution_count": 1023,
   "id": "6f504648",
   "metadata": {
    "cellId": "yn8m4o8b32ghor2r7uhkv"
   },
   "outputs": [],
   "source": [
    "#!g1.1\n",
    "from production import ProductionModel"
   ]
  },
  {
   "cell_type": "code",
   "execution_count": 1024,
   "id": "95ad49b1",
   "metadata": {
    "cellId": "ss4smc4vsrcbmyl5ab5ztp"
   },
   "outputs": [
    {
     "name": "stderr",
     "output_type": "stream",
     "text": [
      "Downloading: \"https://github.com/lukemelas/EfficientNet-PyTorch/releases/download/1.0/efficientnet-b7-dcc49843.pth\" to /tmp/xdg_cache/torch/hub/checkpoints/efficientnet-b7-dcc49843.pth\n"
     ]
    },
    {
     "data": {
      "application/vnd.jupyter.widget-view+json": {
       "model_id": "c28398be93ae4691911b7c8b88451a5b",
       "version_major": 2,
       "version_minor": 0
      },
      "text/plain": [
       "HBox(children=(HTML(value=''), FloatProgress(value=0.0, max=266860719.0), HTML(value='')))"
      ]
     },
     "metadata": {},
     "output_type": "display_data"
    },
    {
     "name": "stdout",
     "output_type": "stream",
     "text": [
      "\n"
     ]
    }
   ],
   "source": [
    "#!g1.1\n",
    "cfg_1 = Config().load(path=os.path.join('configs', 'UnetPP-efnb7-2048.cfg'))\n",
    "model_1 = ProductionModel(cfg_1, cut_size=2048)"
   ]
  },
  {
   "cell_type": "code",
   "execution_count": 1025,
   "id": "d1b67bc1",
   "metadata": {
    "cellId": "e2q30aojbcqs96lz5ai3p"
   },
   "outputs": [],
   "source": [
    "#!g1.1\n",
    "cfg_2 = Config().load(path=os.path.join('configs', 'UnetPP-efnb7-1024-v2.cfg'))\n",
    "model_2 = ProductionModel(cfg_2, cut_size=1024)"
   ]
  },
  {
   "cell_type": "code",
   "execution_count": 1026,
   "id": "b2c08f58",
   "metadata": {
    "cellId": "khhvpc5jivh4777xmprwjp"
   },
   "outputs": [],
   "source": [
    "#!g1.1\n",
    "import ttach as tta\n",
    "transforms = tta.Compose(\n",
    "    [\n",
    "        tta.HorizontalFlip(),\n",
    "        tta.VerticalFlip(),\n",
    "        tta.Rotate90(angles=[0, 90, 180, 270]),\n",
    "    ]\n",
    ")"
   ]
  },
  {
   "cell_type": "code",
   "execution_count": 1027,
   "id": "c0e4f016",
   "metadata": {
    "cellId": "60afjet9ojc0mfv7b4vb9lk"
   },
   "outputs": [],
   "source": [
    "#!g1.1\n",
    "public_paths = [x[0] for x in test_paths]\n",
    "folder = '/home/jupyter/mnt/datasets/tissue/data/test'\n",
    "test_paths = [os.path.join(folder, x) for x in os.listdir(folder) if 'mask' not in x]"
   ]
  },
  {
   "cell_type": "code",
   "execution_count": 1028,
   "id": "e3799584",
   "metadata": {
    "cellId": "jax3rd5ba2l3itv7r91c"
   },
   "outputs": [],
   "source": [
    "#!g1.1\n",
    "def apply_transform(model, image, transforms):\n",
    "    preds = []\n",
    "    for transformer in transforms: \n",
    "        augmented_image = transformer.augment_image(torch.unsqueeze(torch.from_numpy(image), dim=0))\n",
    "        output = model(augmented_image)\n",
    "        model_output = torch.unsqueeze(output, dim=0)\n",
    "        deaug_mask = transformer.deaugment_mask(model_output)\n",
    "        preds.append(deaug_mask[0])\n",
    "    return torch.mean(torch.cat(preds, dim=0), dim=0)"
   ]
  },
  {
   "cell_type": "code",
   "execution_count": 1029,
   "id": "2d4fdd96",
   "metadata": {
    "cellId": "uzyj7ktbobn3eu8g6gming"
   },
   "outputs": [
    {
     "name": "stderr",
     "output_type": "stream",
     "text": [
      "  0%|          | 0/3 [00:00<?, ?it/s]"
     ]
    },
    {
     "name": "stdout",
     "output_type": "stream",
     "text": [
      "submit/18-02791B_2019-05-07 22_25_06-lv1-14165-17366-6446-4855.jpg\n"
     ]
    },
    {
     "name": "stderr",
     "output_type": "stream",
     "text": [
      " 33%|███▎      | 1/3 [02:11<04:22, 131.47s/it]"
     ]
    },
    {
     "name": "stdout",
     "output_type": "stream",
     "text": [
      "submit/18-01592A_2019-05-07 21_59_18-lv1-18492-12001-4720-3984.jpg\n"
     ]
    },
    {
     "name": "stderr",
     "output_type": "stream",
     "text": [
      " 67%|██████▋   | 2/3 [03:04<01:48, 108.04s/it]"
     ]
    },
    {
     "name": "stdout",
     "output_type": "stream",
     "text": [
      "submit/18-01913A_2019-05-07 22_11_13-lv1-23474-19944-5901-4637.jpg\n"
     ]
    },
    {
     "name": "stderr",
     "output_type": "stream",
     "text": [
      "100%|██████████| 3/3 [04:25<00:00, 88.50s/it] \n"
     ]
    }
   ],
   "source": [
    "#!g1.1\n",
    "output_folder = 'submit'\n",
    "\n",
    "for image_path in tqdm.tqdm(test_paths[:3]):\n",
    "    mask_path = os.path.join(output_folder, image_path.split('/')[-1])\n",
    "    print(mask_path)\n",
    "    image = cv2.imread(image_path)\n",
    "    image = cv2.cvtColor(image, cv2.COLOR_BGR2RGB)\n",
    "    image = np.transpose(image, (2, 0, 1))\n",
    "        \n",
    "    preds1 = apply_transform(model_1, image, transforms)\n",
    "    preds2 = apply_transform(model_2, image, transforms)\n",
    "    preds = preds1 * 0.5 + preds2 * 0.5\n",
    "    binary = torch.where(preds > 0.5, 1, 0).numpy()\n",
    "    cv2.imwrite(mask_path, binary * 255)\n",
    "   "
   ]
  },
  {
   "cell_type": "code",
   "execution_count": 854,
   "id": "03d3311e",
   "metadata": {
    "cellId": "yt5ruopyvlckf2oa0u3oc"
   },
   "outputs": [],
   "source": [
    "#!g1.1\n"
   ]
  }
 ],
 "metadata": {
  "kernelspec": {
   "display_name": "Yandex DataSphere Kernel",
   "language": "python",
   "name": "python3"
  },
  "language_info": {
   "codemirror_mode": {
    "name": "ipython",
    "version": 3
   },
   "file_extension": ".py",
   "mimetype": "text/x-python",
   "name": "python",
   "nbconvert_exporter": "python",
   "pygments_lexer": "ipython3",
   "version": "3.7.7"
  },
  "notebookId": "148bfce2-f48f-4eca-818f-ffe355c7cdb5",
  "notebookPath": "HDH/Test.ipynb"
 },
 "nbformat": 4,
 "nbformat_minor": 5
}
