{
 "cells": [
  {
   "cell_type": "code",
   "execution_count": 527,
   "metadata": {
    "cellId": "nxea3azc3ghvsuy8jcs3b"
   },
   "outputs": [
    {
     "name": "stdout",
     "output_type": "stream",
     "text": [
      "1\n"
     ]
    }
   ],
   "source": [
    "#!g1.1\n",
    "print(1)"
   ]
  },
  {
   "cell_type": "code",
   "execution_count": 519,
   "metadata": {
    "cellId": "lr9zefnbeu9g7o89a6jw8",
    "cellView": "form",
    "colab": {
     "base_uri": "https://localhost:8080/"
    },
    "id": "lU5CFxNbZBsY",
    "outputId": "2bed0ba4-4619-4334-8dfe-1522255fc4f8"
   },
   "outputs": [
    {
     "name": "stdout",
     "output_type": "stream",
     "text": [
      "Ready to work\n"
     ]
    }
   ],
   "source": [
    "#!g1.1\n",
    "# Помощь в визуализации\n",
    "%matplotlib inline\n",
    "from IPython.display import clear_output\n",
    "from tqdm.notebook import tqdm, trange\n",
    "import warnings\n",
    "warnings.filterwarnings(\"ignore\", category=FutureWarning)\n",
    "warnings.simplefilter(\"ignore\", UserWarning)\n",
    "\n",
    "# Базовые библиотеки\n",
    "import os\n",
    "import numpy as np\n",
    "import matplotlib.pyplot as plt\n",
    "import random\n",
    "\n",
    "# Аугментации\n",
    "# %pip install -qqq albumentations\n",
    "import albumentations as A\n",
    "\n",
    "# Torch\n",
    "import torch\n",
    "from torch import nn\n",
    "from torch import optim\n",
    "import segmentation_models_pytorch as smp\n",
    "\n",
    "# Красивые графики\n",
    "# %pip install wandb -qqq\n",
    "import wandb\n",
    "\n",
    "print('Ready to work')"
   ]
  },
  {
   "cell_type": "markdown",
   "metadata": {
    "cellId": "x4y66pum73e9hfqp9qozrw",
    "id": "2FG4WNylX1Tc"
   },
   "source": [
    "# Config and settings"
   ]
  },
  {
   "cell_type": "code",
   "execution_count": 520,
   "metadata": {
    "cellId": "n55ywmj44cj9c5kza79mu9",
    "id": "S7MJBJQOMzWm"
   },
   "outputs": [],
   "source": [
    "#!g1.1\n",
    "from utils import Config \n",
    "cfg = Config()\n",
    "\n",
    "cfg.data_folders_train = '/home/jupyter/mnt/datasets/tissue-patches-1024/train'\n",
    "cfg.data_folders_val = '/home/jupyter/mnt/datasets/tissue-patches-1024/val'\n",
    "cfg.save_folder = ''\n",
    "cfg.save_name = 'UnetPP-efnb7-1024'\n",
    "\n",
    "# Setting seed\n",
    "cfg.seed = 42\n",
    "\n",
    "# Model settings\n",
    "cfg.pretrained = True\n",
    "cfg.epochs = 12\n",
    "cfg.lr = 1e-4\n",
    "\n",
    "# Dataloading\n",
    "cfg.batch_size = 8\n",
    "cfg.val_size = 0.2\n",
    "\n",
    "# Cross-validation\n",
    "cfg.kfold = False\n",
    "# cfg.n_splits = 3\n",
    "# cfg.fold_number = 1"
   ]
  },
  {
   "cell_type": "markdown",
   "metadata": {
    "cellId": "2ifsl8kmyyj18fof9nyvjb",
    "id": "LaVgxYBxXrm1"
   },
   "source": [
    "# Data loading"
   ]
  },
  {
   "cell_type": "code",
   "execution_count": 521,
   "metadata": {
    "cellId": "2u2pezrixbgqniyoyxpii",
    "id": "MJ85H4b0nlHN"
   },
   "outputs": [],
   "source": [
    "#!g1.1\n",
    "cfg.pre_transforms = [\n",
    "    dict(\n",
    "        name=\"Resize\",\n",
    "        params=dict(\n",
    "            height=512,\n",
    "            width=512,\n",
    "            p=1.0,\n",
    "        )\n",
    "    ),\n",
    "]\n",
    "\n",
    "cfg.augmentations = [\n",
    "    dict(\n",
    "        name=\"HorizontalFlip\",\n",
    "        params=dict(\n",
    "            p=0.5)\n",
    "    ),\n",
    "    dict(\n",
    "        name=\"VerticalFlip\",\n",
    "        params=dict(\n",
    "            p=0.5)\n",
    "    ),\n",
    "#     dict(\n",
    "#         name=\"ElasticTransform\",\n",
    "#         params=dict(\n",
    "#             p=0.5)\n",
    "#     ),\n",
    "    dict(\n",
    "        name=\"RandomRotate90\",\n",
    "        params=dict()\n",
    "    ),\n",
    "#     class albumentations.augmentations.geometric.transforms.ElasticTransform \n",
    "]\n",
    "\n",
    "cfg.post_transforms = []"
   ]
  },
  {
   "cell_type": "markdown",
   "metadata": {
    "cellId": "rgnb16buxkeyrqdyhdpk6",
    "id": "Y6rubzhZZGMv"
   },
   "source": [
    "# Train\n"
   ]
  },
  {
   "cell_type": "code",
   "execution_count": 522,
   "metadata": {
    "cellId": "h8q8sr02w3d9rpqv9zagcm",
    "cellView": "form",
    "id": "_b1jaGvuQEQB"
   },
   "outputs": [],
   "source": [
    "#!g1.1\n",
    "cfg.device = 'cuda' if torch.cuda.is_available() else 'cpu'\n",
    "cfg.model = 'UnetPlusPlus' #@param ['DeepLabV3', 'Unet', 'UnetPlusPlus']\n",
    "cfg.backbone = 'efficientnet-b7' #@param [ 'None', 'resnet101', 'resnet50', 'resnet34', 'resnext101_32x4d', 'resnet152', 'efficientnet-b7', 'efficientnet-b6', 'efficientnet-b5']\n",
    "cfg.in_channels = 3\n",
    "cfg.num_classes = 1\n",
    "cfg.layers_to_freeze = 4\n",
    "cfg.max_early_stopping = 2\n",
    "\n",
    "cfg.metric = 'DiceScore' #@param ['IoUScore', 'IoUScoreBinary', 'DiceScore']\n",
    "cfg.metric_params = dict()\n",
    "cfg.criterion = 'IoULoss' #@param ['IoULoss', 'BCELoss', 'DiceLoss', 'FocalLoss']\n",
    "cfg.criterion_params = dict()\n",
    "\n",
    "cfg.optimizer = 'Adam'\n",
    "cfg.optimizer_params = dict(\n",
    "    lr=cfg.lr\n",
    ")\n",
    "\n",
    "from utils.datagenerator import get_paths\n",
    "\n",
    "\n",
    "cfg.scheduler = 'OneCycleLR'\n",
    "cfg.scheduler_params = dict(\n",
    "    max_lr=cfg.lr,\n",
    "    epochs=cfg.epochs,\n",
    "    steps_per_epoch=len(get_paths(cfg.data_folders_train)) // cfg.batch_size\n",
    ")\n",
    "\n",
    "# cfg.scheduler = None\n",
    "# cfg.scheduler_params = dict(\n",
    "#     lr=cfg.lr\n",
    "# )"
   ]
  },
  {
   "cell_type": "code",
   "execution_count": 523,
   "metadata": {
    "cellId": "zs1sef0twxsmq4i0rop38"
   },
   "outputs": [
    {
     "name": "stdout",
     "output_type": "stream",
     "text": [
      "Sun Apr 10 11:52:28 2022       \n",
      "+-----------------------------------------------------------------------------+\n",
      "| NVIDIA-SMI 460.91.03    Driver Version: 460.91.03    CUDA Version: 11.2     |\n",
      "|-------------------------------+----------------------+----------------------+\n",
      "| GPU  Name        Persistence-M| Bus-Id        Disp.A | Volatile Uncorr. ECC |\n",
      "| Fan  Temp  Perf  Pwr:Usage/Cap|         Memory-Usage | GPU-Util  Compute M. |\n",
      "|                               |                      |               MIG M. |\n",
      "|===============================+======================+======================|\n",
      "|   0  Tesla V100-SXM2...  Off  | 00000000:8C:00.0 Off |                    0 |\n",
      "| N/A   30C    P0    21W / 300W |      4MiB / 32510MiB |      0%      Default |\n",
      "|                               |                      |                  N/A |\n",
      "+-------------------------------+----------------------+----------------------+\n",
      "                                                                               \n",
      "+-----------------------------------------------------------------------------+\n",
      "| Processes:                                                                  |\n",
      "|  GPU   GI   CI        PID   Type   Process name                  GPU Memory |\n",
      "|        ID   ID                                                   Usage      |\n",
      "|=============================================================================|\n",
      "|  No running processes found                                                 |\n",
      "+-----------------------------------------------------------------------------+\n"
     ]
    }
   ],
   "source": [
    "#!g1.1\n",
    "!nvidia-smi"
   ]
  },
  {
   "cell_type": "code",
   "execution_count": null,
   "metadata": {
    "cellId": "sfysxwok2j93ot9oyvq4r"
   },
   "outputs": [],
   "source": [
    "#!g1.1\n",
    "!ls weights"
   ]
  },
  {
   "cell_type": "code",
   "execution_count": 526,
   "metadata": {
    "cellId": "fbffeh4ett4z2niq6dbo4g",
    "colab": {
     "background_save": true,
     "base_uri": "https://localhost:8080/",
     "height": 331
    },
    "id": "m0whq-WBVCD4",
    "outputId": "413cb434-46b5-4484-c7c3-3e902532f8b9"
   },
   "outputs": [
    {
     "data": {
      "application/vnd.jupyter.widget-view+json": {
       "model_id": "1d629e5e4643405f97258c31f6d40103",
       "version_major": 2,
       "version_minor": 0
      },
      "text/plain": [
       "HBox(children=(HTML(value=''), FloatProgress(value=0.0, max=266860719.0), HTML(value='')))"
      ]
     },
     "metadata": {},
     "output_type": "display_data"
    },
    {
     "data": {
      "text/html": [
       "wandb version 0.12.14 is available!  To upgrade, please run:\n",
       " $ pip install wandb --upgrade"
      ],
      "text/plain": [
       "<IPython.core.display.HTML object>"
      ]
     },
     "metadata": {},
     "output_type": "display_data"
    },
    {
     "data": {
      "text/html": [
       "Tracking run with wandb version 0.12.11"
      ],
      "text/plain": [
       "<IPython.core.display.HTML object>"
      ]
     },
     "metadata": {},
     "output_type": "display_data"
    },
    {
     "data": {
      "text/html": [
       "Run data is saved locally in <code>/home/jupyter/work/resources/HDH/wandb/run-20220410_115325-3d2kfstd</code>"
      ],
      "text/plain": [
       "<IPython.core.display.HTML object>"
      ]
     },
     "metadata": {},
     "output_type": "display_data"
    },
    {
     "data": {
      "text/html": [
       "Syncing run <strong><a href=\"https://wandb.ai/werserk/HDH/runs/3d2kfstd\" target=\"_blank\">UnetPP-efnb7-1024-elastic</a></strong> to <a href=\"https://wandb.ai/werserk/HDH\" target=\"_blank\">Weights & Biases</a> (<a href=\"https://wandb.me/run\" target=\"_blank\">docs</a>)<br/>"
      ],
      "text/plain": [
       "<IPython.core.display.HTML object>"
      ]
     },
     "metadata": {},
     "output_type": "display_data"
    },
    {
     "name": "stderr",
     "output_type": "stream",
     "text": [
      "Downloading: \"https://github.com/lukemelas/EfficientNet-PyTorch/releases/download/1.0/efficientnet-b7-dcc49843.pth\" to /tmp/xdg_cache/torch/hub/checkpoints/efficientnet-b7-dcc49843.pth\n",
      "Failed to detect the name of this notebook, you can set it manually with the WANDB_NOTEBOOK_NAME environment variable to enable code saving.\n",
      "\u001b[34m\u001b[1mwandb\u001b[0m: Currently logged in as: \u001b[33mwerserk\u001b[0m (use `wandb login --relogin` to force relogin)\n",
      "100%|██████████| 512/512 [30:39<00:00,  3.59s/it]\n",
      "100%|██████████| 57/57 [02:48<00:00,  2.96s/it]\n",
      "100%|██████████| 512/512 [29:43<00:00,  3.48s/it]\n",
      "100%|██████████| 57/57 [02:52<00:00,  3.02s/it]\n",
      "100%|██████████| 512/512 [30:08<00:00,  3.53s/it]\n",
      "100%|██████████| 57/57 [02:54<00:00,  3.06s/it]\n",
      "100%|██████████| 512/512 [30:05<00:00,  3.53s/it]\n",
      "100%|██████████| 57/57 [02:53<00:00,  3.04s/it]\n",
      "100%|██████████| 512/512 [30:55<00:00,  3.62s/it]\n",
      "100%|██████████| 57/57 [02:41<00:00,  2.83s/it]\n",
      "100%|██████████| 512/512 [30:21<00:00,  3.56s/it]\n",
      "100%|██████████| 57/57 [02:40<00:00,  2.81s/it]\n",
      "100%|██████████| 512/512 [29:48<00:00,  3.49s/it]\n",
      "100%|██████████| 57/57 [02:40<00:00,  2.82s/it]\n",
      "100%|██████████| 512/512 [30:17<00:00,  3.55s/it]\n",
      "100%|██████████| 57/57 [02:42<00:00,  2.85s/it]\n",
      "100%|██████████| 512/512 [30:14<00:00,  3.54s/it]\n",
      "100%|██████████| 57/57 [02:48<00:00,  2.96s/it]\n",
      "100%|██████████| 512/512 [29:37<00:00,  3.47s/it]\n",
      "100%|██████████| 57/57 [02:34<00:00,  2.70s/it]\n",
      "100%|██████████| 512/512 [30:56<00:00,  3.63s/it]\n",
      "100%|██████████| 57/57 [02:59<00:00,  3.15s/it]\n",
      "100%|██████████| 512/512 [30:25<00:00,  3.57s/it]\n",
      "100%|██████████| 57/57 [02:54<00:00,  3.07s/it]\n"
     ]
    },
    {
     "name": "stdout",
     "output_type": "stream",
     "text": [
      "\n",
      "Epoch #1\n",
      "      Score    |    Loss\n",
      "Train: 0.383507 | 0.725856\n",
      "Val: 0.610855 | 0.617854\n",
      "\n",
      "Epoch #2\n",
      "      Score    |    Loss\n",
      "Train: 0.694118 | 0.495158\n",
      "Val: 0.749171 | 0.420326\n",
      "\n",
      "Epoch #3\n",
      "      Score    |    Loss\n",
      "Train: 0.761419 | 0.367510\n",
      "Val: 0.788808 | 0.349835\n",
      "\n",
      "Epoch #4\n",
      "      Score    |    Loss\n",
      "Train: 0.784954 | 0.317697\n",
      "Val: 0.793049 | 0.328245\n",
      "\n",
      "Epoch #5\n",
      "      Score    |    Loss\n",
      "Train: 0.801975 | 0.289631\n",
      "Val: 0.781562 | 0.324667\n",
      "\n",
      "Epoch #6\n",
      "      Score    |    Loss\n",
      "Train: 0.813062 | 0.269914\n",
      "Val: 0.789140 | 0.317154\n",
      "\n",
      "Epoch #7\n",
      "      Score    |    Loss\n",
      "Train: 0.822553 | 0.251342\n",
      "Val: 0.795394 | 0.310105\n",
      "\n",
      "Epoch #8\n",
      "      Score    |    Loss\n",
      "Train: 0.838743 | 0.233033\n",
      "Val: 0.799443 | 0.305443\n",
      "\n",
      "Epoch #9\n",
      "      Score    |    Loss\n",
      "Train: 0.850412 | 0.215669\n",
      "Val: 0.793946 | 0.303014\n",
      "\n",
      "Epoch #10\n",
      "      Score    |    Loss\n",
      "Train: 0.857999 | 0.206147\n",
      "Val: 0.804346 | 0.300623\n",
      "\n",
      "Epoch #11\n",
      "      Score    |    Loss\n",
      "Train: 0.861264 | 0.200609\n",
      "Val: 0.798109 | 0.305116\n",
      "\n",
      "Epoch #12\n",
      "      Score    |    Loss\n",
      "Train: 0.863172 | 0.196681\n",
      "Val: 0.801899 | 0.306776\n",
      "\n",
      "<<< EarlyStopping >>>\n",
      "\n"
     ]
    },
    {
     "data": {
      "text/html": [
       "Waiting for W&B process to finish... <strong style=\"color:green\">(success).</strong>"
      ],
      "text/plain": [
       "<IPython.core.display.HTML object>"
      ]
     },
     "metadata": {},
     "output_type": "display_data"
    },
    {
     "data": {
      "application/vnd.jupyter.widget-view+json": {
       "model_id": "e7eca7907cf0467ebc209a0aaad4a2a2",
       "version_major": 2,
       "version_minor": 0
      },
      "text/plain": [
       "VBox(children=(Label(value='0.001 MB of 0.001 MB uploaded (0.000 MB deduped)\\r'), FloatProgress(value=1.0, max…"
      ]
     },
     "metadata": {},
     "output_type": "display_data"
    },
    {
     "data": {
      "text/html": [
       "<style>\n",
       "    table.wandb td:nth-child(1) { padding: 0 10px; text-align: right }\n",
       "    .wandb-row { display: flex; flex-direction: row; flex-wrap: wrap; width: 100% }\n",
       "    .wandb-col { display: flex; flex-direction: column; flex-basis: 100%; flex: 1; padding: 10px; }\n",
       "    </style>\n",
       "<div class=\"wandb-row\"><div class=\"wandb-col\"><h3>Run history:</h3><br/><table class=\"wandb\"><tr><td>lr</td><td>▂▅███▇▆▄▃▂▁▁</td></tr><tr><td>train_loss</td><td>█▅▃▃▂▂▂▁▁▁▁▁</td></tr><tr><td>train_score</td><td>▁▆▇▇▇▇▇█████</td></tr><tr><td>val_loss</td><td>█▄▂▂▂▁▁▁▁▁▁▁</td></tr><tr><td>val_score</td><td>▁▆▇█▇▇██████</td></tr></table><br/></div><div class=\"wandb-col\"><h3>Run summary:</h3><br/><table class=\"wandb\"><tr><td>lr</td><td>0.0</td></tr><tr><td>train_loss</td><td>0.19668</td></tr><tr><td>train_score</td><td>0.86317</td></tr><tr><td>val_loss</td><td>0.30678</td></tr><tr><td>val_score</td><td>0.8019</td></tr></table><br/></div></div>"
      ],
      "text/plain": [
       "<IPython.core.display.HTML object>"
      ]
     },
     "metadata": {},
     "output_type": "display_data"
    },
    {
     "data": {
      "text/html": [
       "Synced <strong style=\"color:#cdcd00\">UnetPP-efnb7-1024-elastic</strong>: <a href=\"https://wandb.ai/werserk/HDH/runs/3d2kfstd\" target=\"_blank\">https://wandb.ai/werserk/HDH/runs/3d2kfstd</a><br/>Synced 5 W&B file(s), 0 media file(s), 0 artifact file(s) and 0 other file(s)"
      ],
      "text/plain": [
       "<IPython.core.display.HTML object>"
      ]
     },
     "metadata": {},
     "output_type": "display_data"
    },
    {
     "data": {
      "text/html": [
       "Find logs at: <code>./wandb/run-20220410_115325-3d2kfstd/logs</code>"
      ],
      "text/plain": [
       "<IPython.core.display.HTML object>"
      ]
     },
     "metadata": {},
     "output_type": "display_data"
    }
   ],
   "source": [
    "#!g1.1\n",
    "from train_functions import run\n",
    "\n",
    "# cfg.pretrained = 'weights/UnetPP-efnb7-1024-of-IoULoss-0.18118978592387416.pth'\n",
    "cfg.save(replace=False)\n",
    "model = run(cfg, use_wandb=True)"
   ]
  },
  {
   "cell_type": "code",
   "execution_count": null,
   "metadata": {
    "cellId": "gbxpdx5w536w4qiqwvo"
   },
   "outputs": [],
   "source": [
    "#!g1.1\n"
   ]
  }
 ],
 "metadata": {
  "accelerator": "GPU",
  "colab": {
   "collapsed_sections": [],
   "name": "Segmentation2.ipynb",
   "provenance": []
  },
  "kernelspec": {
   "display_name": "Yandex DataSphere Kernel",
   "language": "python",
   "name": "python3"
  },
  "language_info": {
   "codemirror_mode": {
    "name": "ipython",
    "version": 3
   },
   "file_extension": ".py",
   "mimetype": "text/x-python",
   "name": "python",
   "nbconvert_exporter": "python",
   "pygments_lexer": "ipython3",
   "version": "3.7.7"
  },
  "notebookId": "61eb36b4-9d0e-4cf7-a48e-9bdfafd00842",
  "notebookPath": "HDH/Training.ipynb"
 },
 "nbformat": 4,
 "nbformat_minor": 4
}
